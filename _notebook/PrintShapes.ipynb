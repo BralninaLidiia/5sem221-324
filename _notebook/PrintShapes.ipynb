{
 "cells": [
  {
   "cell_type": "code",
   "execution_count": null,
   "metadata": {
    "dotnet_interactive": {
     "language": "csharp"
    },
    "polyglot_notebook": {
     "kernelName": "csharp"
    }
   },
   "outputs": [],
   "source": [
    "//это плохо!!!!!!\n",
    "int w = 20;\n",
    "int h = 5;\n",
    "char s = '*';\n",
    "bool f = true;"
   ]
  },
  {
   "cell_type": "code",
   "execution_count": 6,
   "metadata": {
    "dotnet_interactive": {
     "language": "csharp"
    },
    "polyglot_notebook": {
     "kernelName": "csharp"
    }
   },
   "outputs": [
    {
     "name": "stdout",
     "output_type": "stream",
     "text": [
      "********************\n",
      "********************\n",
      "********************\n",
      "********************\n",
      "********************\n"
     ]
    }
   ],
   "source": [
    "int width = 20;\n",
    "int height = 5;\n",
    "char symbol = '*';\n",
    "bool isFill = true;\n",
    "char symbolClear=' ';\n",
    "\n",
    "for (int r = 0; r<height; r++)\n",
    "{\n",
    "    for (int c = 0; c<width; c++)\n",
    "    {\n",
    "        if (isFill)\n",
    "        {\n",
    "        Console.Write(symbol);\n",
    "        }\n",
    "        else\n",
    "        {\n",
    "            if (r==0 || r==height-1 || c==0 || c==width-1)\n",
    "            {\n",
    "                Console.Write(symbol);\n",
    "            }\n",
    "            else\n",
    "            Console.Write(symbolClear);{\n",
    "\n",
    "            }\n",
    "\n",
    "        }\n",
    "    }\n",
    "    Console.WriteLine();\n",
    "\n",
    "}"
   ]
  },
  {
   "cell_type": "code",
   "execution_count": 9,
   "metadata": {},
   "outputs": [
    {
     "name": "stdout",
     "output_type": "stream",
     "text": [
      "********************\n",
      "*                  *\n",
      "*                  *\n",
      "*                  *\n",
      "********************\n"
     ]
    }
   ],
   "source": [
    "int width = 20;\n",
    "int height = 5;\n",
    "char symbol = '*';\n",
    "bool isFill = !true;\n",
    "char symbolClear=' ';\n",
    "\n",
    "for (int r = 0; r<height; r++)\n",
    "{\n",
    "    for (int c = 0; c<width; c++)\n",
    "    {\n",
    "        bool isSimb = isFill || r==0 || r==height-1 || c==0 || c==width-1;\n",
    "        Console.Write(isSimb? symbol:symbolClear);\n",
    "    }\n",
    "    Console.WriteLine();\n",
    "\n",
    "}"
   ]
  },
  {
   "cell_type": "code",
   "execution_count": 19,
   "metadata": {},
   "outputs": [
    {
     "name": "stdout",
     "output_type": "stream",
     "text": [
      "********************\n",
      "*                  *\n",
      "*                  *\n",
      "*                  *\n",
      "********************\n"
     ]
    }
   ],
   "source": [
    "\n",
    "int width=20; \n",
    "int height=5; \n",
    "char symbol= '*'; \n",
    "bool isFill = false;\n",
    "char symbolClear =' ';\n",
    "{ \n",
    "for (int r = 0; r < height; r++) \n",
    "    { \n",
    "        if (isFill || r == 0 || r == height-1) \n",
    "            Console.WriteLine(new string(symbol, width)); \n",
    "        else \n",
    "            Console.WriteLine(symbol + new string(symbolClear, width-2) + symbol); \n",
    "    } \n",
    "} "
   ]
  },
  {
   "cell_type": "code",
   "execution_count": 23,
   "metadata": {},
   "outputs": [
    {
     "name": "stdout",
     "output_type": "stream",
     "text": [
      "***************\n",
      "*             *\n",
      "*             *\n",
      "*             *\n",
      "*             *\n",
      "***************\n",
      "$$$$$$$$$$$$$$$\n",
      "$             $\n",
      "$             $\n",
      "$             $\n",
      "$             $\n",
      "$$$$$$$$$$$$$$$\n",
      "$$$$$$$$$$$$$$$\n",
      "$*************$\n",
      "$*************$\n",
      "$*************$\n",
      "$*************$\n",
      "$$$$$$$$$$$$$$$\n"
     ]
    }
   ],
   "source": [
    "///<summary>\n",
    "///Нарисовать прямоугольник в консоли\n",
    "///</summary>\n",
    "void PrintRectangle ( \n",
    "int width, \n",
    "int height, \n",
    "char symbol= '*', \n",
    "bool isFill = false, \n",
    "char symbolClear =' ' \n",
    ") \n",
    "{ \n",
    "    for (int r = 0; r < height; r++) \n",
    "    { \n",
    "        if (isFill || r == 0 || r == height-1) \n",
    "            Console.WriteLine(new string(symbol, width)); \n",
    "        else \n",
    "            Console.WriteLine(symbol + new string(symbolClear, width-2) + symbol); \n",
    "    } \n",
    "} \n",
    " \n",
    "PrintRectangle(15, 6); \n",
    "PrintRectangle(15, 6, '$');\n",
    "PrintRectangle(width:15, height:6, isFill:false, symbol:'$', symbolClear:'*');"
   ]
  },
  {
   "cell_type": "code",
   "execution_count": 29,
   "metadata": {},
   "outputs": [],
   "source": [
    "///<summary>\n",
    "///Вернуть прямоугольник в виде массива строк\n",
    "///</summary>\n",
    "string[] GetRectangle ( \n",
    "int width, \n",
    "int height, \n",
    "char symbol= '*', \n",
    "bool isFill = true, \n",
    "char symbolClear =' ' \n",
    ") \n",
    "{ \n",
    "    List<string> result = new();\n",
    "    for (int r = 0; r < height; r++) \n",
    "    { \n",
    "        if (isFill || r == 0 || r == height-1) \n",
    "            result.Add(new string(symbol, width)); \n",
    "        else \n",
    "            result.Add(symbol + new string(symbolClear, width-2) + symbol); \n",
    "    \n",
    "    } \n",
    "    return result.ToArray();\n",
    "} \n",
    " \n",
    "GetRectangle(15,20);"
   ]
  },
  {
   "cell_type": "code",
   "execution_count": 34,
   "metadata": {},
   "outputs": [],
   "source": [
    "\n",
    "/// <summary>\n",
    "/// Вернуть прямоугольник в виде массива строк\n",
    "/// </summary>\n",
    "\n",
    "string[] GetRectangle (\n",
    "int width,\n",
    "int height,\n",
    "char symbol= '*',\n",
    "bool isFill = true,\n",
    "char symbolClear =' '\n",
    ")\n",
    "{\n",
    "List<string> result = new();\n",
    "\n",
    "for (int r = 0; r < height; r++)\n",
    "{\n",
    "if (isFill || r == 0 || r == height-1)\n",
    "result.Add(new string(symbol, width));\n",
    "else\n",
    "result.Add(symbol + new string(symbolClear, width-2) + symbol);\n",
    "}\n",
    "return result.ToArray();\n",
    "}\n",
    "\n",
    "GetRectangle(205, 6);"
   ]
  },
  {
   "cell_type": "code",
   "execution_count": 30,
   "metadata": {},
   "outputs": [
    {
     "name": "stdout",
     "output_type": "stream",
     "text": [
      "********************\n",
      "********************\n",
      "********************\n",
      "********************\n",
      "********************\n",
      "********************\n",
      "\n",
      "********************\n",
      "********************\n",
      "********************\n",
      "********************\n",
      "********************\n",
      "********************\n"
     ]
    }
   ],
   "source": [
    "var shape = GetRectangle(20, 6); \n",
    "foreach(var line in shape) \n",
    "    Console.WriteLine(line); \n",
    " \n",
    "Console.WriteLine(); \n",
    "// \n",
    "string r = String.Join('\\n', shape); \n",
    "Console.WriteLine(r);\n"
   ]
  },
  {
   "cell_type": "code",
   "execution_count": null,
   "metadata": {},
   "outputs": [],
   "source": []
  }
 ],
 "metadata": {
  "kernelspec": {
   "display_name": ".NET (C#)",
   "language": "C#",
   "name": ".net-csharp"
  },
  "polyglot_notebook": {
   "kernelInfo": {
    "defaultKernelName": "csharp",
    "items": [
     {
      "aliases": [],
      "languageName": "csharp",
      "name": "csharp"
     }
    ]
   }
  }
 },
 "nbformat": 4,
 "nbformat_minor": 2
}
