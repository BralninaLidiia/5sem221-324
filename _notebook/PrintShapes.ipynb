{
 "cells": [
  {
   "cell_type": "code",
   "execution_count": null,
   "metadata": {
    "dotnet_interactive": {
     "language": "csharp"
    },
    "polyglot_notebook": {
     "kernelName": "csharp"
    }
   },
   "outputs": [],
   "source": [
    "//это плохо!!!!!!\n",
    "int w = 20;\n",
    "int h = 5;\n",
    "char s = '*';\n",
    "bool f = true;"
   ]
  },
  {
   "cell_type": "code",
   "execution_count": 6,
   "metadata": {
    "dotnet_interactive": {
     "language": "csharp"
    },
    "polyglot_notebook": {
     "kernelName": "csharp"
    }
   },
   "outputs": [],
   "source": [
    "int width = 20;\n",
    "int height = 5;\n",
    "char symbol = '*';\n",
    "bool isFill = true;\n",
    "char symbolClear=' ';\n",
    "\n",
    "for (int r = 0; r<height; r++)\n",
    "{\n",
    "    for (int c = 0; c<width; c++)\n",
    "    {\n",
    "        if (isFill)\n",
    "        {\n",
    "        Console.Write(symbol);\n",
    "        }\n",
    "        else\n",
    "        {\n",
    "            if (r==0 || r==height-1 || c==0 || c==width-1)\n",
    "            {\n",
    "                Console.Write(symbol);\n",
    "            }\n",
    "            else\n",
    "            Console.Write(symbolClear);{\n",
    "\n",
    "            }\n",
    "\n",
    "        }\n",
    "    }\n",
    "    Console.WriteLine();\n",
    "\n",
    "}"
   ]
  },
  {
   "cell_type": "code",
   "execution_count": 9,
   "metadata": {
    "dotnet_interactive": {
     "language": "csharp"
    },
    "polyglot_notebook": {
     "kernelName": "csharp"
    }
   },
   "outputs": [],
   "source": [
    "int width = 20;\n",
    "int height = 5;\n",
    "char symbol = '*';\n",
    "bool isFill = !true;\n",
    "char symbolClear=' ';\n",
    "\n",
    "for (int r = 0; r<height; r++)\n",
    "{\n",
    "    for (int c = 0; c<width; c++)\n",
    "    {\n",
    "        bool isSimb = isFill || r==0 || r==height-1 || c==0 || c==width-1;\n",
    "        Console.Write(isSimb? symbol:symbolClear);\n",
    "    }\n",
    "    Console.WriteLine();\n",
    "\n",
    "}"
   ]
  },
  {
   "cell_type": "code",
   "execution_count": 19,
   "metadata": {
    "dotnet_interactive": {
     "language": "csharp"
    },
    "polyglot_notebook": {
     "kernelName": "csharp"
    }
   },
   "outputs": [],
   "source": [
    "\n",
    "int width=20; \n",
    "int height=5; \n",
    "char symbol= '*'; \n",
    "bool isFill = false;\n",
    "char symbolClear =' ';\n",
    "{ \n",
    "for (int r = 0; r < height; r++) \n",
    "    { \n",
    "        if (isFill || r == 0 || r == height-1) \n",
    "            Console.WriteLine(new string(symbol, width)); \n",
    "        else \n",
    "            Console.WriteLine(symbol + new string(symbolClear, width-2) + symbol); \n",
    "    } \n",
    "} "
   ]
  },
  {
   "cell_type": "code",
   "execution_count": 23,
   "metadata": {
    "dotnet_interactive": {
     "language": "csharp"
    },
    "polyglot_notebook": {
     "kernelName": "csharp"
    }
   },
   "outputs": [
    {
     "name": "stdout",
     "output_type": "stream",
     "text": [
      "***************\n",
      "*             *\n",
      "*             *\n",
      "*             *\n",
      "*             *\n",
      "***************\n",
      "$$$$$$$$$$$$$$$\n",
      "$             $\n",
      "$             $\n",
      "$             $\n",
      "$             $\n",
      "$$$$$$$$$$$$$$$\n",
      "$$$$$$$$$$$$$$$\n",
      "$*************$\n",
      "$*************$\n",
      "$*************$\n",
      "$*************$\n",
      "$$$$$$$$$$$$$$$\n"
     ]
    }
   ],
   "source": [
    "///<summary>\n",
    "///Нарисовать прямоугольник в консоли\n",
    "///</summary>\n",
    "void PrintRectangle ( \n",
    "int width, \n",
    "int height, \n",
    "char symbol= '*', \n",
    "bool isFill = false, \n",
    "char symbolClear =' ' \n",
    ") \n",
    "{ \n",
    "    for (int r = 0; r < height; r++) \n",
    "    { \n",
    "        if (isFill || r == 0 || r == height-1) \n",
    "            Console.WriteLine(new string(symbol, width)); \n",
    "        else \n",
    "            Console.WriteLine(symbol + new string(symbolClear, width-2) + symbol); \n",
    "    } \n",
    "} \n",
    " \n",
    "PrintRectangle(15, 6); \n",
    "PrintRectangle(15, 6, '$');\n",
    "PrintRectangle(width:15, height:6, isFill:false, symbol:'$', symbolClear:'*');"
   ]
  },
  {
   "cell_type": "code",
   "execution_count": 29,
   "metadata": {
    "dotnet_interactive": {
     "language": "csharp"
    },
    "polyglot_notebook": {
     "kernelName": "csharp"
    }
   },
   "outputs": [],
   "source": [
    "///<summary>\n",
    "///Вернуть прямоугольник в виде массива строк\n",
    "///</summary>\n",
    "string[] GetRectangle ( \n",
    "int width, \n",
    "int height, \n",
    "char symbol= '*', \n",
    "bool isFill = true, \n",
    "char symbolClear =' ' \n",
    ") \n",
    "{ \n",
    "    List<string> result = new();\n",
    "    for (int r = 0; r < height; r++) \n",
    "    { \n",
    "        if (isFill || r == 0 || r == height-1) \n",
    "            result.Add(new string(symbol, width)); \n",
    "        else \n",
    "            result.Add(symbol + new string(symbolClear, width-2) + symbol); \n",
    "    \n",
    "    } \n",
    "    return result.ToArray();\n",
    "} \n",
    " \n",
    "GetRectangle(15,20);"
   ]
  },
  {
   "cell_type": "code",
   "execution_count": 34,
   "metadata": {
    "dotnet_interactive": {
     "language": "csharp"
    },
    "polyglot_notebook": {
     "kernelName": "csharp"
    }
   },
   "outputs": [],
   "source": [
    "\n",
    "/// <summary>\n",
    "/// Вернуть прямоугольник в виде массива строк\n",
    "/// </summary>\n",
    "\n",
    "string[] GetRectangle (\n",
    "int width,\n",
    "int height,\n",
    "char symbol= '*',\n",
    "bool isFill = true,\n",
    "char symbolClear =' '\n",
    ")\n",
    "{\n",
    "List<string> result = new();\n",
    "\n",
    "for (int r = 0; r < height; r++)\n",
    "{\n",
    "if (isFill || r == 0 || r == height-1)\n",
    "result.Add(new string(symbol, width));\n",
    "else\n",
    "result.Add(symbol + new string(symbolClear, width-2) + symbol);\n",
    "}\n",
    "return result.ToArray();\n",
    "}\n",
    "\n",
    "GetRectangle(205, 6);"
   ]
  },
  {
   "cell_type": "code",
   "execution_count": 30,
   "metadata": {
    "dotnet_interactive": {
     "language": "csharp"
    },
    "polyglot_notebook": {
     "kernelName": "csharp"
    }
   },
   "outputs": [
    {
     "name": "stdout",
     "output_type": "stream",
     "text": [
      "********************\n",
      "********************\n",
      "********************\n",
      "********************\n",
      "********************\n",
      "********************\n",
      "\n",
      "********************\n",
      "********************\n",
      "********************\n",
      "********************\n",
      "********************\n",
      "********************\n"
     ]
    }
   ],
   "source": [
    "var shape = GetRectangle(20, 6); \n",
    "foreach(var line in shape) \n",
    "    Console.WriteLine(line); \n",
    " \n",
    "Console.WriteLine(); \n",
    "// \n",
    "string r = String.Join('\\n', shape); \n",
    "Console.WriteLine(r);\n"
   ]
  },
  {
   "cell_type": "code",
   "execution_count": 30,
   "metadata": {
    "dotnet_interactive": {
     "language": "csharp"
    },
    "polyglot_notebook": {
     "kernelName": "csharp"
    }
   },
   "outputs": [],
   "source": [
    "/// <summary>\n",
    "/// Вернуть песочные часы в виде массива строк\n",
    "/// </summary>\n",
    "\n",
    "string[] GetHourglass(\n",
    "    int width,\n",
    "    char symbol = '*',\n",
    "    bool isFill = true,\n",
    "    char symbolClear = '!'\n",
    ")\n",
    "{\n",
    "    List<string> result = new();\n",
    "\n",
    "    if (!isFill){\n",
    "        symbolClear=' ';\n",
    "    }\n",
    "\n",
    "    for (int r = 1; r <= width; r++)\n",
    "    {\n",
    "        if (r == 1 || r == width)\n",
    "        {\n",
    "            result.Add(new string(symbol, width));\n",
    "        }\n",
    "        else if (r == (width / 2) + 1 && width % 2 != 0)\n",
    "        {\n",
    "            result.Add(new string(' ', r - 1) + symbol);\n",
    "        }\n",
    "        else if (r <= width / 2)\n",
    "        {\n",
    "            result.Add(new string(' ', r - 1) + symbol + new string(symbolClear, width - 2 * r) + symbol);\n",
    "        }\n",
    "        else\n",
    "        {\n",
    "            result.Add(new string(' ', width - r ) + symbol + new string(symbolClear, width - 2 * (width - r + 1)) + symbol);\n",
    "        }\n",
    "    }\n",
    "\n",
    "    return result.ToArray();\n",
    "}\n"
   ]
  },
  {
   "cell_type": "code",
   "execution_count": 84,
   "metadata": {},
   "outputs": [
    {
     "name": "stdout",
     "output_type": "stream",
     "text": [
      "$$$$$$$$$\n",
      " $     $\n",
      "  $   $\n",
      "   $ $\n",
      "    $\n",
      "   $ $\n",
      "  $   $\n",
      " $     $\n",
      "$$$$$$$$$\n",
      "\n",
      "№№№№№№№№№№№\n",
      " №!!!!!!!№\n",
      "  №!!!!!№\n",
      "   №!!!№\n",
      "    №!№\n",
      "     №\n",
      "    №!№\n",
      "   №!!!№\n",
      "  №!!!!!№\n",
      " №!!!!!!!№\n",
      "№№№№№№№№№№№\n",
      "\n"
     ]
    }
   ],
   "source": [
    "//проверки нечетные числа\n",
    "var shape1 = GetHourglass(width: 9, isFill: false, symbol: '$');\n",
    "foreach (var line in shape1)\n",
    "{\n",
    "    Console.WriteLine(line);\n",
    "}\n",
    "\n",
    "Console.WriteLine();\n",
    "\n",
    "var shape2 = GetHourglass(width: 11, isFill: true, symbol: '№');\n",
    "foreach (var line in shape2)\n",
    "{\n",
    "    Console.WriteLine(line);\n",
    "}\n",
    "\n",
    "Console.WriteLine();\n"
   ]
  },
  {
   "cell_type": "code",
   "execution_count": 85,
   "metadata": {},
   "outputs": [
    {
     "name": "stdout",
     "output_type": "stream",
     "text": [
      "**********\n",
      " *      *\n",
      "  *    *\n",
      "   *  *\n",
      "    **\n",
      "    **\n",
      "   *  *\n",
      "  *    *\n",
      " *      *\n",
      "**********\n",
      "\n",
      "++++++++++++\n",
      " +@@@@@@@@+\n",
      "  +@@@@@@+\n",
      "   +@@@@+\n",
      "    +@@+\n",
      "     ++\n",
      "     ++\n",
      "    +@@+\n",
      "   +@@@@+\n",
      "  +@@@@@@+\n",
      " +@@@@@@@@+\n",
      "++++++++++++\n",
      "\n"
     ]
    }
   ],
   "source": [
    "//проверки четные числа\n",
    "var shape1 = GetHourglass(10, isFill:false);\n",
    "foreach (var line in shape1)\n",
    "{\n",
    "    Console.WriteLine(line);\n",
    "}\n",
    "\n",
    "Console.WriteLine();\n",
    "\n",
    "var shape2 = GetHourglass(width: 12, isFill: true, symbol: '+', symbolClear:'@');\n",
    "foreach (var line in shape2)\n",
    "{\n",
    "    Console.WriteLine(line);\n",
    "}\n",
    "\n",
    "Console.WriteLine();"
   ]
  },
  {
   "cell_type": "code",
   "execution_count": 88,
   "metadata": {},
   "outputs": [],
   "source": [
    "/// <summary>\n",
    "/// Нарисовать песочные часы в консоли\n",
    "/// </summary>\n",
    "void PrintHourglass ( \n",
    "int width,\n",
    "char symbol = '*',\n",
    "bool isFill = true,\n",
    "char symbolClear = '!'\n",
    ") \n",
    "{ \n",
    "    if (!isFill){\n",
    "        symbolClear=' ';\n",
    "    }\n",
    "\n",
    "    for (int r = 1; r <= width; r++)\n",
    "    {\n",
    "        if (r == 1 || r == width)\n",
    "        {\n",
    "            Console.WriteLine(new string(symbol, width));\n",
    "        }\n",
    "        else if (r == (width / 2) + 1 && width % 2 != 0)\n",
    "        {\n",
    "            Console.WriteLine(new string(' ', r - 1) + symbol);\n",
    "        }\n",
    "        else if (r <= width / 2)\n",
    "        {\n",
    "            Console.WriteLine(new string(' ', r - 1) + symbol + new string(symbolClear, width - 2 * r) + symbol);\n",
    "        }\n",
    "        else\n",
    "        {\n",
    "            Console.WriteLine(new string(' ', width - r ) + symbol + new string(symbolClear, width - 2 * (width - r + 1)) + symbol);\n",
    "        }\n",
    "    }\n",
    "\n",
    "} \n"
   ]
  },
  {
   "cell_type": "code",
   "execution_count": 89,
   "metadata": {},
   "outputs": [
    {
     "name": "stdout",
     "output_type": "stream",
     "text": [
      "$$$$$$$$$\n",
      " $     $\n",
      "  $   $\n",
      "   $ $\n",
      "    $\n",
      "   $ $\n",
      "  $   $\n",
      " $     $\n",
      "$$$$$$$$$\n",
      "№№№№№№№№№№№\n",
      " №!!!!!!!№\n",
      "  №!!!!!№\n",
      "   №!!!№\n",
      "    №!№\n",
      "     №\n",
      "    №!№\n",
      "   №!!!№\n",
      "  №!!!!!№\n",
      " №!!!!!!!№\n",
      "№№№№№№№№№№№\n"
     ]
    }
   ],
   "source": [
    "//проверки нечетные числа\n",
    "PrintHourglass(width: 9, isFill: false, symbol: '$');\n",
    "PrintHourglass(width: 11, isFill: true, symbol: '№');"
   ]
  },
  {
   "cell_type": "code",
   "execution_count": 90,
   "metadata": {},
   "outputs": [
    {
     "name": "stdout",
     "output_type": "stream",
     "text": [
      "**********\n",
      " *      *\n",
      "  *    *\n",
      "   *  *\n",
      "    **\n",
      "    **\n",
      "   *  *\n",
      "  *    *\n",
      " *      *\n",
      "**********\n",
      "++++++++++++\n",
      " +@@@@@@@@+\n",
      "  +@@@@@@+\n",
      "   +@@@@+\n",
      "    +@@+\n",
      "     ++\n",
      "     ++\n",
      "    +@@+\n",
      "   +@@@@+\n",
      "  +@@@@@@+\n",
      " +@@@@@@@@+\n",
      "++++++++++++\n"
     ]
    }
   ],
   "source": [
    "//проверки четные числа\n",
    "PrintHourglass(10, isFill:false);\n",
    "PrintHourglass(width: 12, isFill: true, symbol: '+', symbolClear:'@');"
   ]
  },
  {
   "cell_type": "code",
   "execution_count": 110,
   "metadata": {},
   "outputs": [],
   "source": [
    "/// <summary>\n",
    "/// Вернуть зебру в виде массива строк\n",
    "/// </summary>\n",
    "\n",
    "string[] GetZebra(\n",
    "    int width,\n",
    "    int rows,\n",
    "    char symbol = '▯',\n",
    "    char position = 'h',\n",
    "    int thickness = 1\n",
    ")\n",
    "{\n",
    "    List<string> result = new();\n",
    "    if (position == 'h'){\n",
    "        for (int r = 1; r <= rows; r++){\n",
    "            for (int t = 1; t<=thickness; t++){\n",
    "                result.Add(new string(symbol, width));\n",
    "            }\n",
    "            result.Add(new string('\\n', thickness));\n",
    "        }\n",
    "    }\n",
    "    else if (position=='v'){\n",
    "        for (int r = 1; r <= rows; r++){\n",
    "            string part = new string(symbol, thickness) + new string(' ', thickness);\n",
    "            string fullLine = string.Empty;\n",
    "            for (int w = 1; w <= width; w++)\n",
    "            {\n",
    "                fullLine += part;\n",
    "            }\n",
    "            result.Add(fullLine);\n",
    "        }\n",
    "    }\n",
    "    return result.ToArray();\n",
    "}"
   ]
  },
  {
   "cell_type": "code",
   "execution_count": 119,
   "metadata": {},
   "outputs": [
    {
     "name": "stdout",
     "output_type": "stream",
     "text": [
      "▯▯▯▯▯▯▯▯▯▯\n",
      "▯▯▯▯▯▯▯▯▯▯\n",
      "\n",
      "\n",
      "\n",
      "▯▯▯▯▯▯▯▯▯▯\n",
      "▯▯▯▯▯▯▯▯▯▯\n",
      "\n",
      "\n",
      "\n",
      "▯▯▯▯▯▯▯▯▯▯\n",
      "▯▯▯▯▯▯▯▯▯▯\n",
      "\n",
      "\n",
      "\n",
      "▯▯▯▯▯▯▯▯▯▯\n",
      "▯▯▯▯▯▯▯▯▯▯\n",
      "\n",
      "\n",
      "\n",
      "\n",
      "▯▯▯   ▯▯▯   ▯▯▯   ▯▯▯   ▯▯▯   ▯▯▯   ▯▯▯   ▯▯▯   \n",
      "▯▯▯   ▯▯▯   ▯▯▯   ▯▯▯   ▯▯▯   ▯▯▯   ▯▯▯   ▯▯▯   \n",
      "▯▯▯   ▯▯▯   ▯▯▯   ▯▯▯   ▯▯▯   ▯▯▯   ▯▯▯   ▯▯▯   \n",
      "▯▯▯   ▯▯▯   ▯▯▯   ▯▯▯   ▯▯▯   ▯▯▯   ▯▯▯   ▯▯▯   \n",
      "▯▯▯   ▯▯▯   ▯▯▯   ▯▯▯   ▯▯▯   ▯▯▯   ▯▯▯   ▯▯▯   \n",
      "\n"
     ]
    }
   ],
   "source": [
    "//проверки\n",
    "var shape1 = GetZebra(width:10, rows:4, position:'h', thickness:2);\n",
    "foreach (var line in shape1)\n",
    "{\n",
    "    Console.WriteLine(line);\n",
    "}\n",
    "\n",
    "Console.WriteLine();\n",
    "\n",
    "var shape2 = GetZebra(width:8, rows:5, position:'v', thickness:3);\n",
    "foreach (var line in shape2)\n",
    "{\n",
    "    Console.WriteLine(line);\n",
    "}\n",
    "\n",
    "Console.WriteLine();"
   ]
  },
  {
   "cell_type": "code",
   "execution_count": 120,
   "metadata": {},
   "outputs": [],
   "source": [
    "/// <summary>\n",
    "/// Нарисовать зебру в консоли\n",
    "/// </summary>\n",
    "\n",
    "void PrintZebra(\n",
    "    int width,\n",
    "    int rows,\n",
    "    char symbol = '▯',\n",
    "    char position = 'h',\n",
    "    int thickness = 1\n",
    ")\n",
    "{\n",
    "    if (position == 'h'){\n",
    "        for (int r = 1; r <= rows; r++){\n",
    "            for (int t = 1; t<=thickness; t++){\n",
    "                Console.WriteLine(new string(symbol, width));\n",
    "            }\n",
    "            Console.WriteLine(new string('\\n', thickness));\n",
    "        }\n",
    "    }\n",
    "    else if (position=='v'){\n",
    "        for (int r = 1; r <= rows; r++){\n",
    "            string part = new string(symbol, thickness) + new string(' ', thickness);\n",
    "            string fullLine = string.Empty;\n",
    "            for (int w = 1; w <= width; w++)\n",
    "            {\n",
    "                fullLine += part;\n",
    "            }\n",
    "            Console.WriteLine(fullLine);\n",
    "        }\n",
    "    }\n",
    "}"
   ]
  },
  {
   "cell_type": "code",
   "execution_count": 125,
   "metadata": {},
   "outputs": [
    {
     "name": "stdout",
     "output_type": "stream",
     "text": [
      "▯▯▯▯▯▯▯▯▯▯▯▯▯▯▯▯▯▯▯▯\n",
      "▯▯▯▯▯▯▯▯▯▯▯▯▯▯▯▯▯▯▯▯\n",
      "\n",
      "\n",
      "\n",
      "▯▯▯▯▯▯▯▯▯▯▯▯▯▯▯▯▯▯▯▯\n",
      "▯▯▯▯▯▯▯▯▯▯▯▯▯▯▯▯▯▯▯▯\n",
      "\n",
      "\n",
      "\n",
      "▯▯▯▯▯▯▯▯▯▯▯▯▯▯▯▯▯▯▯▯\n",
      "▯▯▯▯▯▯▯▯▯▯▯▯▯▯▯▯▯▯▯▯\n",
      "\n",
      "\n",
      "\n",
      "▯▯▯▯    ▯▯▯▯    ▯▯▯▯    ▯▯▯▯    ▯▯▯▯    ▯▯▯▯    ▯▯▯▯    ▯▯▯▯    ▯▯▯▯    ▯▯▯▯    \n",
      "▯▯▯▯    ▯▯▯▯    ▯▯▯▯    ▯▯▯▯    ▯▯▯▯    ▯▯▯▯    ▯▯▯▯    ▯▯▯▯    ▯▯▯▯    ▯▯▯▯    \n",
      "▯▯▯▯    ▯▯▯▯    ▯▯▯▯    ▯▯▯▯    ▯▯▯▯    ▯▯▯▯    ▯▯▯▯    ▯▯▯▯    ▯▯▯▯    ▯▯▯▯    \n",
      "▯▯▯▯    ▯▯▯▯    ▯▯▯▯    ▯▯▯▯    ▯▯▯▯    ▯▯▯▯    ▯▯▯▯    ▯▯▯▯    ▯▯▯▯    ▯▯▯▯    \n",
      "▯▯▯▯    ▯▯▯▯    ▯▯▯▯    ▯▯▯▯    ▯▯▯▯    ▯▯▯▯    ▯▯▯▯    ▯▯▯▯    ▯▯▯▯    ▯▯▯▯    \n",
      "▯▯▯▯    ▯▯▯▯    ▯▯▯▯    ▯▯▯▯    ▯▯▯▯    ▯▯▯▯    ▯▯▯▯    ▯▯▯▯    ▯▯▯▯    ▯▯▯▯    \n"
     ]
    }
   ],
   "source": [
    "//проверка\n",
    "PrintZebra(width:20, rows:3, position:'h', thickness:2);\n",
    "PrintZebra(width:10, rows:6, position:'v', thickness:4);"
   ]
  }
 ],
 "metadata": {
  "kernelspec": {
   "display_name": ".NET (C#)",
   "language": "C#",
   "name": ".net-csharp"
  },
  "polyglot_notebook": {
   "kernelInfo": {
    "defaultKernelName": "csharp",
    "items": [
     {
      "aliases": [],
      "languageName": "csharp",
      "name": "csharp"
     }
    ]
   }
  }
 },
 "nbformat": 4,
 "nbformat_minor": 2
}
