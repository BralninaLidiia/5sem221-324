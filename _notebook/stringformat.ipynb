{
 "cells": [
  {
   "cell_type": "markdown",
   "metadata": {},
   "source": [
    "# Форматирование строк"
   ]
  },
  {
   "cell_type": "code",
   "execution_count": 9,
   "metadata": {
    "dotnet_interactive": {
     "language": "csharp"
    },
    "polyglot_notebook": {
     "kernelName": "csharp"
    },
    "vscode": {
     "languageId": "polyglot-notebook"
    }
   },
   "outputs": [
    {
     "name": "stdout",
     "output_type": "stream",
     "text": [
      "Ваня19\n",
      "Ваня 19\n",
      "Ваня19__\n",
      "Ваня, 19\n"
     ]
    }
   ],
   "source": [
    "var name = \"Ваня\";\n",
    "var age = 19;\n",
    "Console.WriteLine(name+age);\n",
    "Console.WriteLine(string.Join(\" \", name, age));\n",
    "Console.WriteLine(string.Format(\"{0}{1}__\",name, age)); \n",
    "Console.WriteLine($\"{name}, {age}\");\n"
   ]
  },
  {
   "cell_type": "code",
   "execution_count": 13,
   "metadata": {
    "vscode": {
     "languageId": "polyglot-notebook"
    }
   },
   "outputs": [
    {
     "name": "stdout",
     "output_type": "stream",
     "text": [
      "0.16666666666666666\n",
      "0.16666666666666666\n",
      "0.167\n",
      "0.166667\n",
      "16.667%\n",
      "16.666667%\n"
     ]
    }
   ],
   "source": [
    "var v = 1.0/6;\n",
    "Console.WriteLine(v);\n",
    "Console.WriteLine(v.ToString());\n",
    "//формат данных и точность после запятой\n",
    "Console.WriteLine(v.ToString(\"F\"));//F - число с дробной частью \n",
    "Console.WriteLine(v.ToString(\"F6\"));\n",
    "Console.WriteLine(v.ToString(\"P\"));//число в процентах\n",
    "Console.WriteLine(v.ToString(\"P0\"));"
   ]
  }
 ],
 "metadata": {
  "kernelspec": {
   "display_name": ".NET (C#)",
   "language": "C#",
   "name": ".net-csharp"
  },
  "language_info": {
   "name": "csharp"
  },
  "polyglot_notebook": {
   "kernelInfo": {
    "defaultKernelName": "csharp",
    "items": [
     {
      "aliases": [],
      "name": "csharp"
     }
    ]
   }
  }
 },
 "nbformat": 4,
 "nbformat_minor": 2
}
