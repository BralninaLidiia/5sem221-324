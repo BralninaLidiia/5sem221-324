{
 "cells": [
  {
   "cell_type": "markdown",
   "metadata": {},
   "source": [
    "# LINQ"
   ]
  },
  {
   "cell_type": "code",
   "execution_count": null,
   "metadata": {
    "dotnet_interactive": {
     "language": "csharp"
    },
    "polyglot_notebook": {
     "kernelName": "csharp"
    }
   },
   "outputs": [
    {
     "name": "stdout",
     "output_type": "stream",
     "text": [
      "1 2 3 4 5 6 7 8 9 10\n",
      "10 12 14\n"
     ]
    }
   ],
   "source": [
    "var numbers = Enumerable.Range(1,10).ToArray();\n",
    "Console.WriteLine(string.Join(\" \", numbers));\n",
    "var q1=\n",
    "    from i in numbers //откуда\n",
    "    where i > 4 && i < 8 //ограничения\n",
    "    select i*2; //результат\n",
    "\n",
    "Console.WriteLine(string.Join(\" \", q1));"
   ]
  },
  {
   "cell_type": "code",
   "execution_count": null,
   "metadata": {},
   "outputs": [
    {
     "name": "stdout",
     "output_type": "stream",
     "text": [
      "г.Самара г.Смоленск г.Сочи г.сумы\r\n"
     ]
    }
   ],
   "source": [
    "var cities = new string[]{\"Москва\",\"Сочи\",\"Самара\",\"Смоленск\",\"Тула\",\"сумы\"};\n",
    "var q2 =\n",
    "    from city in cities\n",
    "    where city.ToUpper().StartsWith(\"С\")\n",
    "    orderby city\n",
    "    select $\"г.{city}\";\n",
    "\n",
    "Console.WriteLine(string.Join(\" \", q2));"
   ]
  },
  {
   "cell_type": "code",
   "execution_count": null,
   "metadata": {
    "dotnet_interactive": {
     "language": "csharp"
    },
    "polyglot_notebook": {
     "kernelName": "csharp"
    }
   },
   "outputs": [
    {
     "name": "stdout",
     "output_type": "stream",
     "text": [
      "Самара, (6), Смоленск, (8)\r\n"
     ]
    }
   ],
   "source": [
    "//с помощью методов расширения\n",
    "var citiesNew=cities\n",
    ".Where(i=>i.ToUpper().StartsWith(\"С\"))\n",
    ".Where(i=>i.Length>4)\n",
    ".OrderBy(i=>i)\n",
    ".Select(i=>$\"{i}, ({i.Length})\")\n",
    ".ToArray();\n",
    "\n",
    "Console.WriteLine(string.Join(\", \", citiesNew))"
   ]
  }
 ],
 "metadata": {
  "kernelspec": {
   "display_name": ".NET (C#)",
   "language": "C#",
   "name": ".net-csharp"
  },
  "polyglot_notebook": {
   "kernelInfo": {
    "defaultKernelName": "csharp",
    "items": [
     {
      "aliases": [],
      "languageName": "csharp",
      "name": "csharp"
     }
    ]
   }
  }
 },
 "nbformat": 4,
 "nbformat_minor": 2
}
