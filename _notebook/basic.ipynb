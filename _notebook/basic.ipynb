{
 "cells": [
  {
   "cell_type": "code",
   "execution_count": null,
   "metadata": {
    "dotnet_interactive": {
     "language": "csharp"
    },
    "polyglot_notebook": {
     "kernelName": "csharp"
    }
   },
   "outputs": [],
   "source": [
    "//комментарии"
   ]
  },
  {
   "cell_type": "code",
   "execution_count": 1,
   "metadata": {
    "dotnet_interactive": {
     "language": "csharp"
    },
    "polyglot_notebook": {
     "kernelName": "csharp"
    }
   },
   "outputs": [],
   "source": [
    "Console.WriteLine(9/2);\n",
    "//alt shift стрелка\n",
    "Console.WriteLine(9/2.0); \n",
    "Console.WriteLine(9%2); \n",
    "Console.WriteLine(9*2); \n",
    "Console.WriteLine(Math.Pow(2,8)); "
   ]
  },
  {
   "cell_type": "code",
   "execution_count": null,
   "metadata": {
    "dotnet_interactive": {
     "language": "csharp"
    },
    "polyglot_notebook": {
     "kernelName": "csharp"
    }
   },
   "outputs": [],
   "source": [
    "int x=1+2+3;\n",
    "x+=10; //комбинированный оператор присваивания\n",
    "x"
   ]
  },
  {
   "cell_type": "code",
   "execution_count": 4,
   "metadata": {
    "dotnet_interactive": {
     "language": "csharp"
    },
    "polyglot_notebook": {
     "kernelName": "csharp"
    }
   },
   "outputs": [],
   "source": [
    "Console.WriteLine(\"hello\".Contains('e'));\n",
    "Console.WriteLine(\"hello\".Contains(\"el\"));\n",
    "Console.WriteLine(\"hello\".Contains(\"He\"));\n"
   ]
  },
  {
   "cell_type": "code",
   "execution_count": null,
   "metadata": {
    "dotnet_interactive": {
     "language": "csharp"
    },
    "polyglot_notebook": {
     "kernelName": "csharp"
    }
   },
   "outputs": [],
   "source": [
    "Console.WriteLine(1>2);\n",
    "Console.WriteLine(1>=2);\n",
    "Console.WriteLine(1==2);"
   ]
  },
  {
   "cell_type": "code",
   "execution_count": 6,
   "metadata": {
    "dotnet_interactive": {
     "language": "csharp"
    },
    "polyglot_notebook": {
     "kernelName": "csharp"
    }
   },
   "outputs": [],
   "source": [
    "int x=1;\n",
    "int y=2;\n",
    "Console.WriteLine(x==1||y==1); //или , все последующие не вычисляются при нахождении истины\n",
    "Console.WriteLine(x==1|y==1); //работает как или но сначала проверяем первое выражение\n",
    "Console.WriteLine(x==1&&y==1); //и\n",
    "Console.WriteLine(x==1&y==1); //и\n",
    "Console.WriteLine(!(x==y));\n",
    "\n"
   ]
  },
  {
   "cell_type": "code",
   "execution_count": 7,
   "metadata": {
    "dotnet_interactive": {
     "language": "csharp"
    },
    "polyglot_notebook": {
     "kernelName": "csharp"
    }
   },
   "outputs": [],
   "source": [
    "if (x==3)\n",
    "{\n",
    "    Console.WriteLine(\"dsfef\");\n",
    "}\n",
    "else if (x==1)\n",
    "{\n",
    "    Console.WriteLine(\"sdff\");\n",
    "}\n",
    "else\n",
    "{\n",
    "    Console.WriteLine(\"esww\");\n",
    "}"
   ]
  },
  {
   "cell_type": "code",
   "execution_count": 8,
   "metadata": {
    "dotnet_interactive": {
     "language": "csharp"
    },
    "polyglot_notebook": {
     "kernelName": "csharp"
    }
   },
   "outputs": [],
   "source": [
    "3<2 ? \"yes\" : \"no\""
   ]
  },
  {
   "cell_type": "code",
   "execution_count": 10,
   "metadata": {
    "dotnet_interactive": {
     "language": "csharp"
    },
    "polyglot_notebook": {
     "kernelName": "csharp"
    }
   },
   "outputs": [],
   "source": [
    "string  r = 3<2 ? \"yes\" : \"no\";\n",
    "r"
   ]
  },
  {
   "cell_type": "code",
   "execution_count": 11,
   "metadata": {
    "dotnet_interactive": {
     "language": "csharp"
    },
    "polyglot_notebook": {
     "kernelName": "csharp"
    }
   },
   "outputs": [],
   "source": [
    "int r = 0; \n",
    "char c = '*'; \n",
    " \n",
    "switch (c) \n",
    "{ \n",
    "    case '-': \n",
    "        r = -1; \n",
    "        break; \n",
    "    case '+': \n",
    "        r = 10; \n",
    "        break; \n",
    "    default: \n",
    "        r = 1000; \n",
    "        break; \n",
    "} \n",
    "r"
   ]
  },
  {
   "cell_type": "code",
   "execution_count": 14,
   "metadata": {
    "dotnet_interactive": {
     "language": "csharp"
    },
    "polyglot_notebook": {
     "kernelName": "csharp"
    }
   },
   "outputs": [],
   "source": [
    "int i =0;\n",
    "while (i<4) //с предусловием\n",
    "{\n",
    "    Console.WriteLine(i);\n",
    "    i++;\n",
    "}\n",
    "\n",
    "do //с постусловием\n",
    "{\n",
    "    Console.WriteLine(i);\n",
    "    i++;\n",
    "} while (i<4);"
   ]
  },
  {
   "cell_type": "code",
   "execution_count": 16,
   "metadata": {
    "dotnet_interactive": {
     "language": "csharp"
    },
    "polyglot_notebook": {
     "kernelName": "csharp"
    }
   },
   "outputs": [],
   "source": [
    "int[] x = {1, 2, 3, 4};\n",
    "int[] y = [1, 2, 3, 4];\n",
    "foreach (int i in x)\n",
    "{\n",
    "    Console.WriteLine(i);\n",
    "}\n"
   ]
  },
  {
   "cell_type": "code",
   "execution_count": 20,
   "metadata": {
    "dotnet_interactive": {
     "language": "csharp"
    },
    "polyglot_notebook": {
     "kernelName": "csharp"
    }
   },
   "outputs": [],
   "source": [
    "for (int i=0; i<4; i++)\n",
    "{\n",
    "    Console.WriteLine(i);\n",
    "}\n",
    "for (int i=0, k =10; i<4; i++, k++)\n",
    "{\n",
    "    Console.WriteLine(i);\n",
    "    Console.WriteLine(k);\n",
    "}"
   ]
  },
  {
   "cell_type": "code",
   "execution_count": 21,
   "metadata": {
    "dotnet_interactive": {
     "language": "csharp"
    },
    "polyglot_notebook": {
     "kernelName": "csharp"
    }
   },
   "outputs": [],
   "source": [
    "Console.WriteLine($\"byte | {int.MinValue} .. {int.MaxValue}\"); \n",
    "Console.WriteLine($\"sbyte | {int.MinValue} .. {int.MaxValue}\"); \n",
    " \n",
    "Console.WriteLine($\"short | {int.MinValue} .. {int.MaxValue}\"); \n",
    " \n",
    "Console.WriteLine($\"int | {int.MinValue} .. {int.MaxValue}\"); \n",
    "Console.WriteLine($\"uint | {int.MinValue} .. {int.MaxValue}\"); \n",
    " \n",
    "Console.WriteLine($\"long | {int.MinValue} .. {int.MaxValue}\"); \n",
    "Console.WriteLine($\"ulong | {int.MinValue} .. {int.MaxValue}\");"
   ]
  },
  {
   "cell_type": "code",
   "execution_count": 22,
   "metadata": {
    "dotnet_interactive": {
     "language": "csharp"
    },
    "polyglot_notebook": {
     "kernelName": "csharp"
    }
   },
   "outputs": [],
   "source": [
    "Console.WriteLine(typeof(byte)); \n",
    "Console.WriteLine(typeof(int)); \n",
    "Console.WriteLine(typeof(long));"
   ]
  },
  {
   "cell_type": "code",
   "execution_count": 23,
   "metadata": {
    "dotnet_interactive": {
     "language": "csharp"
    },
    "polyglot_notebook": {
     "kernelName": "csharp"
    }
   },
   "outputs": [],
   "source": [
    "var x = 123; \n",
    "x.GetType()"
   ]
  },
  {
   "cell_type": "code",
   "execution_count": 24,
   "metadata": {
    "dotnet_interactive": {
     "language": "csharp"
    },
    "polyglot_notebook": {
     "kernelName": "csharp"
    }
   },
   "outputs": [],
   "source": [
    "Console.WriteLine(123.GetType()); \n",
    "Console.WriteLine(123L.GetType()); \n",
    "Console.WriteLine(123D.GetType()); //реализован на процессоре, работает намного быстрее\n",
    "Console.WriteLine(123M.GetType()); //реализован софтом, используется для деняк \n",
    "Console.WriteLine(123F.GetType());"
   ]
  },
  {
   "cell_type": "code",
   "execution_count": 26,
   "metadata": {
    "dotnet_interactive": {
     "language": "csharp"
    },
    "polyglot_notebook": {
     "kernelName": "csharp"
    }
   },
   "outputs": [],
   "source": [
    "Console.WriteLine(0.1 + 0.1 + 0.1);\n",
    "Console.WriteLine(0.1M + 0.1M + 0.1M);"
   ]
  }
 ],
 "metadata": {
  "kernelspec": {
   "display_name": ".NET (C#)",
   "language": "C#",
   "name": ".net-csharp"
  },
  "polyglot_notebook": {
   "kernelInfo": {
    "defaultKernelName": "csharp",
    "items": [
     {
      "aliases": [],
      "languageName": "csharp",
      "name": "csharp"
     }
    ]
   }
  }
 },
 "nbformat": 4,
 "nbformat_minor": 2
}
