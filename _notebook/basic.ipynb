{
 "cells": [
  {
   "cell_type": "code",
   "execution_count": null,
   "metadata": {
    "dotnet_interactive": {
     "language": "csharp"
    },
    "polyglot_notebook": {
     "kernelName": "csharp"
    }
   },
   "outputs": [],
   "source": [
    "//комментарии"
   ]
  },
  {
   "cell_type": "code",
   "execution_count": 1,
   "metadata": {
    "dotnet_interactive": {
     "language": "csharp"
    },
    "polyglot_notebook": {
     "kernelName": "csharp"
    }
   },
   "outputs": [
    {
     "name": "stdout",
     "output_type": "stream",
     "text": [
      "4\n",
      "4.5\n",
      "1\n",
      "18\n",
      "256\n"
     ]
    }
   ],
   "source": [
    "Console.WriteLine(9/2);\n",
    "//alt shift стрелка\n",
    "Console.WriteLine(9/2.0); \n",
    "Console.WriteLine(9%2); \n",
    "Console.WriteLine(9*2); \n",
    "Console.WriteLine(Math.Pow(2,8)); "
   ]
  },
  {
   "cell_type": "code",
   "execution_count": null,
   "metadata": {},
   "outputs": [],
   "source": [
    "int x=1+2+3;\n",
    "x+=10; //комбинированный оператор присваивания\n",
    "x"
   ]
  },
  {
   "cell_type": "code",
   "execution_count": 4,
   "metadata": {},
   "outputs": [
    {
     "name": "stdout",
     "output_type": "stream",
     "text": [
      "True\n",
      "True\n",
      "False\n"
     ]
    }
   ],
   "source": [
    "Console.WriteLine(\"hello\".Contains('e'));\n",
    "Console.WriteLine(\"hello\".Contains(\"el\"));\n",
    "Console.WriteLine(\"hello\".Contains(\"He\"));\n"
   ]
  },
  {
   "cell_type": "code",
   "execution_count": null,
   "metadata": {},
   "outputs": [],
   "source": [
    "Console.WriteLine(1>2);\n",
    "Console.WriteLine(1>=2);\n",
    "Console.WriteLine(1==2);"
   ]
  },
  {
   "cell_type": "code",
   "execution_count": 6,
   "metadata": {},
   "outputs": [
    {
     "name": "stdout",
     "output_type": "stream",
     "text": [
      "True\n",
      "True\n",
      "False\n",
      "False\n",
      "True\n"
     ]
    }
   ],
   "source": [
    "int x=1;\n",
    "int y=2;\n",
    "Console.WriteLine(x==1||y==1); //или , все последующие не вычисляются при нахождении истины\n",
    "Console.WriteLine(x==1|y==1); //работает как или но сначала проверяем первое выражение\n",
    "Console.WriteLine(x==1&&y==1); //и\n",
    "Console.WriteLine(x==1&y==1); //и\n",
    "Console.WriteLine(!(x==y));\n",
    "\n"
   ]
  },
  {
   "cell_type": "code",
   "execution_count": 7,
   "metadata": {},
   "outputs": [
    {
     "name": "stdout",
     "output_type": "stream",
     "text": [
      "sdff\r\n"
     ]
    }
   ],
   "source": [
    "if (x==3)\n",
    "{\n",
    "    Console.WriteLine(\"dsfef\");\n",
    "}\n",
    "else if (x==1)\n",
    "{\n",
    "    Console.WriteLine(\"sdff\");\n",
    "}\n",
    "else\n",
    "{\n",
    "    Console.WriteLine(\"esww\");\n",
    "}"
   ]
  },
  {
   "cell_type": "code",
   "execution_count": 8,
   "metadata": {},
   "outputs": [
    {
     "data": {
      "text/plain": [
       "no"
      ]
     },
     "metadata": {},
     "output_type": "display_data"
    }
   ],
   "source": [
    "3<2 ? \"yes\" : \"no\""
   ]
  },
  {
   "cell_type": "code",
   "execution_count": 10,
   "metadata": {},
   "outputs": [
    {
     "data": {
      "text/plain": [
       "no"
      ]
     },
     "metadata": {},
     "output_type": "display_data"
    }
   ],
   "source": [
    "string  r = 3<2 ? \"yes\" : \"no\";\n",
    "r"
   ]
  },
  {
   "cell_type": "code",
   "execution_count": 11,
   "metadata": {},
   "outputs": [
    {
     "data": {
      "text/html": [
       "<div class=\"dni-plaintext\"><pre>10</pre></div><style>\r\n",
       ".dni-code-hint {\r\n",
       "    font-style: italic;\r\n",
       "    overflow: hidden;\r\n",
       "    white-space: nowrap;\r\n",
       "}\r\n",
       ".dni-treeview {\r\n",
       "    white-space: nowrap;\r\n",
       "}\r\n",
       ".dni-treeview td {\r\n",
       "    vertical-align: top;\r\n",
       "    text-align: start;\r\n",
       "}\r\n",
       "details.dni-treeview {\r\n",
       "    padding-left: 1em;\r\n",
       "}\r\n",
       "table td {\r\n",
       "    text-align: start;\r\n",
       "}\r\n",
       "table tr { \r\n",
       "    vertical-align: top; \r\n",
       "    margin: 0em 0px;\r\n",
       "}\r\n",
       "table tr td pre \r\n",
       "{ \r\n",
       "    vertical-align: top !important; \r\n",
       "    margin: 0em 0px !important;\r\n",
       "} \r\n",
       "table th {\r\n",
       "    text-align: start;\r\n",
       "}\r\n",
       "</style>"
      ]
     },
     "metadata": {},
     "output_type": "display_data"
    }
   ],
   "source": [
    "int r = 0; \n",
    "char c = '*'; \n",
    " \n",
    "switch (c) \n",
    "{ \n",
    "    case '-': \n",
    "        r = -1; \n",
    "        break; \n",
    "    case '+': \n",
    "        r = 10; \n",
    "        break; \n",
    "    default: \n",
    "        r = 1000; \n",
    "        break; \n",
    "} \n",
    "r"
   ]
  },
  {
   "cell_type": "code",
   "execution_count": 14,
   "metadata": {},
   "outputs": [
    {
     "name": "stdout",
     "output_type": "stream",
     "text": [
      "0\n",
      "1\n",
      "2\n",
      "3\n",
      "4\n"
     ]
    }
   ],
   "source": [
    "int i =0;\n",
    "while (i<4) //с предусловием\n",
    "{\n",
    "    Console.WriteLine(i);\n",
    "    i++;\n",
    "}\n",
    "\n",
    "do //с постусловием\n",
    "{\n",
    "    Console.WriteLine(i);\n",
    "    i++;\n",
    "} while (i<4);"
   ]
  },
  {
   "cell_type": "code",
   "execution_count": 16,
   "metadata": {},
   "outputs": [
    {
     "name": "stdout",
     "output_type": "stream",
     "text": [
      "1\n",
      "2\n",
      "3\n",
      "4\n"
     ]
    }
   ],
   "source": [
    "int[] x = {1, 2, 3, 4};\n",
    "int[] y = [1, 2, 3, 4];\n",
    "foreach (int i in x)\n",
    "{\n",
    "    Console.WriteLine(i);\n",
    "}\n"
   ]
  },
  {
   "cell_type": "code",
   "execution_count": 20,
   "metadata": {},
   "outputs": [
    {
     "name": "stdout",
     "output_type": "stream",
     "text": [
      "0\n",
      "1\n",
      "2\n",
      "3\n",
      "0\n",
      "10\n",
      "1\n",
      "11\n",
      "2\n",
      "12\n",
      "3\n",
      "13\n"
     ]
    }
   ],
   "source": [
    "for (int i=0; i<4; i++)\n",
    "{\n",
    "    Console.WriteLine(i);\n",
    "}\n",
    "for (int i=0, k =10; i<4; i++, k++)\n",
    "{\n",
    "    Console.WriteLine(i);\n",
    "    Console.WriteLine(k);\n",
    "}"
   ]
  },
  {
   "cell_type": "code",
   "execution_count": 21,
   "metadata": {},
   "outputs": [
    {
     "name": "stdout",
     "output_type": "stream",
     "text": [
      "byte | -2147483648 .. 2147483647\n",
      "sbyte | -2147483648 .. 2147483647\n",
      "short | -2147483648 .. 2147483647\n",
      "int | -2147483648 .. 2147483647\n",
      "uint | -2147483648 .. 2147483647\n",
      "long | -2147483648 .. 2147483647\n",
      "ulong | -2147483648 .. 2147483647\n"
     ]
    }
   ],
   "source": [
    "Console.WriteLine($\"byte | {int.MinValue} .. {int.MaxValue}\"); \n",
    "Console.WriteLine($\"sbyte | {int.MinValue} .. {int.MaxValue}\"); \n",
    " \n",
    "Console.WriteLine($\"short | {int.MinValue} .. {int.MaxValue}\"); \n",
    " \n",
    "Console.WriteLine($\"int | {int.MinValue} .. {int.MaxValue}\"); \n",
    "Console.WriteLine($\"uint | {int.MinValue} .. {int.MaxValue}\"); \n",
    " \n",
    "Console.WriteLine($\"long | {int.MinValue} .. {int.MaxValue}\"); \n",
    "Console.WriteLine($\"ulong | {int.MinValue} .. {int.MaxValue}\");"
   ]
  },
  {
   "cell_type": "code",
   "execution_count": 22,
   "metadata": {},
   "outputs": [
    {
     "name": "stdout",
     "output_type": "stream",
     "text": [
      "System.Byte\n",
      "System.Int32\n",
      "System.Int64\n"
     ]
    }
   ],
   "source": [
    "Console.WriteLine(typeof(byte)); \n",
    "Console.WriteLine(typeof(int)); \n",
    "Console.WriteLine(typeof(long));"
   ]
  },
  {
   "cell_type": "code",
   "execution_count": 23,
   "metadata": {},
   "outputs": [
    {
     "data": {
      "text/html": [
       "<span><a href=\"https://docs.microsoft.com/dotnet/api/system.int32?view=net-7.0\">System.Int32</a></span>"
      ]
     },
     "metadata": {},
     "output_type": "display_data"
    }
   ],
   "source": [
    "var x = 123; \n",
    "x.GetType()"
   ]
  },
  {
   "cell_type": "code",
   "execution_count": 24,
   "metadata": {},
   "outputs": [
    {
     "name": "stdout",
     "output_type": "stream",
     "text": [
      "System.Int32\n",
      "System.Int64\n",
      "System.Double\n",
      "System.Decimal\n",
      "System.Single\n"
     ]
    }
   ],
   "source": [
    "Console.WriteLine(123.GetType()); \n",
    "Console.WriteLine(123L.GetType()); \n",
    "Console.WriteLine(123D.GetType()); //реализован на процессоре, работает намного быстрее\n",
    "Console.WriteLine(123M.GetType()); //реализован софтом, используется для деняк \n",
    "Console.WriteLine(123F.GetType());"
   ]
  },
  {
   "cell_type": "code",
   "execution_count": 26,
   "metadata": {},
   "outputs": [
    {
     "name": "stdout",
     "output_type": "stream",
     "text": [
      "0.30000000000000004\n",
      "0.3\n"
     ]
    }
   ],
   "source": [
    "Console.WriteLine(0.1 + 0.1 + 0.1);\n",
    "Console.WriteLine(0.1M + 0.1M + 0.1M);"
   ]
  }
 ],
 "metadata": {
  "kernelspec": {
   "display_name": ".NET (C#)",
   "language": "C#",
   "name": ".net-csharp"
  },
  "polyglot_notebook": {
   "kernelInfo": {
    "defaultKernelName": "csharp",
    "items": [
     {
      "aliases": [],
      "languageName": "csharp",
      "name": "csharp"
     }
    ]
   }
  }
 },
 "nbformat": 4,
 "nbformat_minor": 2
}
