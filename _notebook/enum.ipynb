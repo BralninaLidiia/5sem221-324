{
 "cells": [
  {
   "cell_type": "markdown",
   "metadata": {},
   "source": [
    "# Перечислимый тип"
   ]
  },
  {
   "cell_type": "code",
   "execution_count": 7,
   "metadata": {
    "dotnet_interactive": {
     "language": "csharp"
    },
    "polyglot_notebook": {
     "kernelName": "csharp"
    }
   },
   "outputs": [],
   "source": [
    "enum SingleColour {Red, Green, black};\n",
    "\n",
    "SingleColour singleColour;\n",
    "singleColour = SingleColour.Green;\n",
    "\n",
    "Console.WriteLine(singleColour);\n",
    "Console.WriteLine(singleColour.ToString(\"D\"));"
   ]
  },
  {
   "cell_type": "code",
   "execution_count": 9,
   "metadata": {
    "dotnet_interactive": {
     "language": "csharp"
    },
    "polyglot_notebook": {
     "kernelName": "csharp"
    }
   },
   "outputs": [],
   "source": [
    "enum MultiColor : byte\n",
    "{\n",
    "    None = 0, // 0b_0000_0000\n",
    "    Red = 1, // 0b_0000_0001\n",
    "    Green = 2, // 0b_0000_0010\n",
    "    Blue = 4, // 0b_0000_0100\n",
    "    RedGreen=Red|Green,\n",
    "    All= Red|Green|Blue\n",
    "}\n",
    "MultiColor multiColor;\n",
    "multiColor = MultiColor.Green;\n",
    "multiColor|=MultiColor.Red;//добавить\n",
    "Console.WriteLine(multiColor);\n",
    "multiColor^=MultiColor.Green;//убрать\n",
    "Console.WriteLine(multiColor);"
   ]
  },
  {
   "cell_type": "code",
   "execution_count": 10,
   "metadata": {
    "dotnet_interactive": {
     "language": "csharp"
    },
    "polyglot_notebook": {
     "kernelName": "csharp"
    }
   },
   "outputs": [],
   "source": [
    "multiColor=MultiColor.RedGreen;\n",
    "//проверка на значения\n",
    "Console.WriteLine(multiColor==MultiColor.Red);\n",
    "Console.WriteLine(multiColor.HasFlag(MultiColor.Red));"
   ]
  },
  {
   "cell_type": "code",
   "execution_count": 12,
   "metadata": {
    "dotnet_interactive": {
     "language": "csharp"
    },
    "polyglot_notebook": {
     "kernelName": "csharp"
    }
   },
   "outputs": [],
   "source": [
    "multiColor = MultiColor.RedGreen;\n",
    "Console.WriteLine(multiColor);\n",
    "Console.WriteLine(multiColor.ToString(\"F\"));\n",
    "Console.WriteLine(multiColor.ToString(\"D\"));\n",
    "Console.WriteLine(multiColor.ToString(\"X\"));"
   ]
  },
  {
   "cell_type": "code",
   "execution_count": 13,
   "metadata": {
    "dotnet_interactive": {
     "language": "csharp"
    },
    "polyglot_notebook": {
     "kernelName": "csharp"
    }
   },
   "outputs": [],
   "source": [
    "multiColor = MultiColor.RedGreen;\n",
    "Console.WriteLine(multiColor);\n",
    "Console.WriteLine(multiColor.ToString(\"F\"));\n",
    "Console.WriteLine(multiColor.ToString(\"D\"));\n",
    "Console.WriteLine(multiColor.ToString(\"X\"));\n",
    "Console.WriteLine($\"{multiColor.ToString(\"D\")}\");\n",
    "Console.WriteLine($\"{multiColor:D}\");\n",
    "Console.WriteLine($\"{multiColor,3:D}\");\n",
    "Console.WriteLine($\"{multiColor,-3:D}\");"
   ]
  },
  {
   "cell_type": "code",
   "execution_count": 11,
   "metadata": {
    "dotnet_interactive": {
     "language": "csharp"
    },
    "polyglot_notebook": {
     "kernelName": "csharp"
    }
   },
   "outputs": [],
   "source": [
    "foreach (var i in Enum.GetValues<MultiColor>())\n",
    "    Console.WriteLine(i);"
   ]
  },
  {
   "cell_type": "code",
   "execution_count": 14,
   "metadata": {
    "dotnet_interactive": {
     "language": "csharp"
    },
    "polyglot_notebook": {
     "kernelName": "csharp"
    }
   },
   "outputs": [],
   "source": [
    "foreach (var i in Enum.GetValues<MultiColor>())\n",
    "Console.WriteLine($\" {i:D} | {i}\");"
   ]
  },
  {
   "cell_type": "code",
   "execution_count": 17,
   "metadata": {
    "dotnet_interactive": {
     "language": "csharp"
    },
    "polyglot_notebook": {
     "kernelName": "csharp"
    }
   },
   "outputs": [],
   "source": [
    "enum MultiColor : byte\n",
    "{\n",
    "    None = 0, // 0b_0000_0000\n",
    "    Red = 1 << 0, // 0b_0000_0001\n",
    "    Green = 1 << 1, // 0b_0000_0010\n",
    "    Black = 1 << 3 // 0b_0000_1000\n",
    "}"
   ]
  }
 ],
 "metadata": {
  "kernelspec": {
   "display_name": ".NET (C#)",
   "language": "C#",
   "name": ".net-csharp"
  },
  "polyglot_notebook": {
   "kernelInfo": {
    "defaultKernelName": "csharp",
    "items": [
     {
      "aliases": [],
      "languageName": "csharp",
      "name": "csharp"
     }
    ]
   }
  }
 },
 "nbformat": 4,
 "nbformat_minor": 2
}
