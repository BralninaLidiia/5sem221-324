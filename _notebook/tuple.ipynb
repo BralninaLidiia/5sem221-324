{
 "cells": [
  {
   "cell_type": "markdown",
   "metadata": {},
   "source": [
    "# Кортеж"
   ]
  },
  {
   "cell_type": "code",
   "execution_count": 4,
   "metadata": {
    "dotnet_interactive": {
     "language": "csharp"
    },
    "polyglot_notebook": {
     "kernelName": "csharp"
    }
   },
   "outputs": [],
   "source": [
    "//var x1=(2, 4, \"dfgfg\");\n",
    "(int, int, string) x1=(2, 5, \"sdffg\");\n",
    "Console.WriteLine(x1.Item1);\n",
    "Console.WriteLine(x1.Item2);\n",
    "Console.WriteLine(x1.Item3);"
   ]
  },
  {
   "cell_type": "code",
   "execution_count": 6,
   "metadata": {
    "dotnet_interactive": {
     "language": "csharp"
    },
    "polyglot_notebook": {
     "kernelName": "csharp"
    }
   },
   "outputs": [],
   "source": [
    "//название полей кортежа\n",
    "(int min, int max) x2=(2, 5);\n",
    "Console.WriteLine(x2.min);\n",
    "Console.WriteLine(x2.max);"
   ]
  },
  {
   "cell_type": "code",
   "execution_count": 7,
   "metadata": {
    "dotnet_interactive": {
     "language": "csharp"
    },
    "polyglot_notebook": {
     "kernelName": "csharp"
    }
   },
   "outputs": [],
   "source": [
    "//название полей кортежа через инициализацию\n",
    "var x3 =(min:2, max:4);\n",
    "Console.WriteLine(x3.min);\n",
    "Console.WriteLine(x3.max);"
   ]
  },
  {
   "cell_type": "code",
   "execution_count": 8,
   "metadata": {
    "dotnet_interactive": {
     "language": "csharp"
    },
    "polyglot_notebook": {
     "kernelName": "csharp"
    }
   },
   "outputs": [],
   "source": [
    "//распаковка\n",
    "var (min, max)= (3, 5);\n",
    "Console.WriteLine(min);\n",
    "Console.WriteLine(max);"
   ]
  },
  {
   "cell_type": "code",
   "execution_count": 10,
   "metadata": {
    "dotnet_interactive": {
     "language": "csharp"
    },
    "polyglot_notebook": {
     "kernelName": "csharp"
    }
   },
   "outputs": [],
   "source": [
    "(int, int) Getx5(){\n",
    "    return (2,4);\n",
    "}\n",
    "var get5 = Getx5();\n",
    "get5"
   ]
  },
  {
   "cell_type": "code",
   "execution_count": 17,
   "metadata": {
    "dotnet_interactive": {
     "language": "csharp"
    },
    "polyglot_notebook": {
     "kernelName": "csharp"
    }
   },
   "outputs": [],
   "source": [
    "(int min, int max) Getx5()=>(4,6);\n",
    "var x5 = Getx5();\n",
    "Console.WriteLine(x5.min);"
   ]
  },
  {
   "cell_type": "code",
   "execution_count": 19,
   "metadata": {
    "dotnet_interactive": {
     "language": "csharp"
    },
    "polyglot_notebook": {
     "kernelName": "csharp"
    }
   },
   "outputs": [],
   "source": [
    "(int min, int max) Getx6(int v, (int a, int b) ab) => (v + ab.a, v + ab.b);\n",
    "var x6 = Getx6(100, (1, 2));\n",
    "Console.WriteLine(x6.min);\n",
    "Console.WriteLine(x6.max);"
   ]
  }
 ],
 "metadata": {
  "kernelspec": {
   "display_name": ".NET (C#)",
   "language": "C#",
   "name": ".net-csharp"
  },
  "polyglot_notebook": {
   "kernelInfo": {
    "defaultKernelName": "csharp",
    "items": [
     {
      "aliases": [],
      "languageName": "csharp",
      "name": "csharp"
     }
    ]
   }
  }
 },
 "nbformat": 4,
 "nbformat_minor": 2
}
